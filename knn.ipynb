{
 "cells": [
  {
   "cell_type": "code",
   "execution_count": 1,
   "id": "c41e2d34",
   "metadata": {},
   "outputs": [
    {
     "data": {
      "text/html": [
       "<div>\n",
       "<style scoped>\n",
       "    .dataframe tbody tr th:only-of-type {\n",
       "        vertical-align: middle;\n",
       "    }\n",
       "\n",
       "    .dataframe tbody tr th {\n",
       "        vertical-align: top;\n",
       "    }\n",
       "\n",
       "    .dataframe thead th {\n",
       "        text-align: right;\n",
       "    }\n",
       "</style>\n",
       "<table border=\"1\" class=\"dataframe\">\n",
       "  <thead>\n",
       "    <tr style=\"text-align: right;\">\n",
       "      <th></th>\n",
       "      <th>school</th>\n",
       "      <th>Inter/Polytechnic/CBSE Board/ITI/Paramedical</th>\n",
       "      <th>Group</th>\n",
       "      <th>Degree</th>\n",
       "      <th>Branches/Course</th>\n",
       "      <th>Output</th>\n",
       "    </tr>\n",
       "  </thead>\n",
       "  <tbody>\n",
       "    <tr>\n",
       "      <th>0</th>\n",
       "      <td>10th Board</td>\n",
       "      <td>10th Board - Intermediate</td>\n",
       "      <td>10th Board - Intermediate - MPC(Maths, Physics...</td>\n",
       "      <td>10th Board - Intermediate - MPC(Maths, Physics...</td>\n",
       "      <td>10th Board - Intermediate - MPC(Maths, Physics...</td>\n",
       "      <td>Jobs: Racing Car Designer, Flight Mechanics En...</td>\n",
       "    </tr>\n",
       "    <tr>\n",
       "      <th>1</th>\n",
       "      <td>10th Board</td>\n",
       "      <td>10th Board - Intermediate</td>\n",
       "      <td>10th Board - Intermediate - MPC(Maths, Physics...</td>\n",
       "      <td>10th Board - Intermediate - MPC(Maths, Physics...</td>\n",
       "      <td>10th Board - Intermediate - MPC(Maths, Physics...</td>\n",
       "      <td>Jobs: Executive and Managerial Positions, Driv...</td>\n",
       "    </tr>\n",
       "    <tr>\n",
       "      <th>2</th>\n",
       "      <td>10th Board</td>\n",
       "      <td>10th Board - Intermediate</td>\n",
       "      <td>10th Board - Intermediate - MPC(Maths, Physics...</td>\n",
       "      <td>10th Board - Intermediate - MPC(Maths, Physics...</td>\n",
       "      <td>10th Board - Intermediate - MPC(Maths, Physics...</td>\n",
       "      <td>Jobs: Civil Engineer, Transportation Engineer,...</td>\n",
       "    </tr>\n",
       "    <tr>\n",
       "      <th>3</th>\n",
       "      <td>10th Board</td>\n",
       "      <td>10th Board - Intermediate</td>\n",
       "      <td>10th Board - Intermediate - MPC(Maths, Physics...</td>\n",
       "      <td>10th Board - Intermediate - MPC(Maths, Physics...</td>\n",
       "      <td>10th Board - Intermediate - MPC(Maths, Physics...</td>\n",
       "      <td>Jobs: data scientist, computer programmer, sys...</td>\n",
       "    </tr>\n",
       "    <tr>\n",
       "      <th>4</th>\n",
       "      <td>10th Board</td>\n",
       "      <td>10th Board - Intermediate</td>\n",
       "      <td>10th Board - Intermediate - MPC(Maths, Physics...</td>\n",
       "      <td>10th Board - Intermediate - MPC(Maths, Physics...</td>\n",
       "      <td>10th Board - Intermediate - MPC(Maths, Physics...</td>\n",
       "      <td>Jobs: Data scientist, Data Architect, Data Sci...</td>\n",
       "    </tr>\n",
       "    <tr>\n",
       "      <th>5</th>\n",
       "      <td>10th Board</td>\n",
       "      <td>10th Board - Intermediate</td>\n",
       "      <td>10th Board - Intermediate - MPC(Maths, Physics...</td>\n",
       "      <td>10th Board - Intermediate - MPC(Maths, Physics...</td>\n",
       "      <td>10th Board - Intermediate - MPC(Maths, Physics...</td>\n",
       "      <td>Jobs: Machine Learning Engineer, Data Scientis...</td>\n",
       "    </tr>\n",
       "    <tr>\n",
       "      <th>6</th>\n",
       "      <td>10th Board</td>\n",
       "      <td>10th Board - Intermediate</td>\n",
       "      <td>10th Board - Intermediate - MPC(Maths, Physics...</td>\n",
       "      <td>10th Board - Intermediate - MPC(Maths, Physics...</td>\n",
       "      <td>10th Board - Intermediate - MPC(Maths, Physics...</td>\n",
       "      <td>Jobs: Robotics Engineer, Robotics analyst and ...</td>\n",
       "    </tr>\n",
       "    <tr>\n",
       "      <th>7</th>\n",
       "      <td>10th Board</td>\n",
       "      <td>10th Board - Intermediate</td>\n",
       "      <td>10th Board - Intermediate - MPC(Maths, Physics...</td>\n",
       "      <td>10th Board - Intermediate - MPC(Maths, Physics...</td>\n",
       "      <td>10th Board - Intermediate - MPC(Maths, Physics...</td>\n",
       "      <td>Jobs: Software architect, Development operatio...</td>\n",
       "    </tr>\n",
       "    <tr>\n",
       "      <th>8</th>\n",
       "      <td>10th Board</td>\n",
       "      <td>10th Board - Intermediate</td>\n",
       "      <td>10th Board - Intermediate - MPC(Maths, Physics...</td>\n",
       "      <td>10th Board - Intermediate - MPC(Maths, Physics...</td>\n",
       "      <td>10th Board - Intermediate - MPC(Maths, Physics...</td>\n",
       "      <td>Jobs: Computer Network Support Specialist, Com...</td>\n",
       "    </tr>\n",
       "    <tr>\n",
       "      <th>9</th>\n",
       "      <td>10th Board</td>\n",
       "      <td>10th Board - Intermediate</td>\n",
       "      <td>10th Board - Intermediate - MPC(Maths, Physics...</td>\n",
       "      <td>10th Board - Intermediate - MPC(Maths, Physics...</td>\n",
       "      <td>10th Board - Intermediate - MPC(Maths, Physics...</td>\n",
       "      <td>Jobs: Cyber Forensics Solutions architect, Mal...</td>\n",
       "    </tr>\n",
       "  </tbody>\n",
       "</table>\n",
       "</div>"
      ],
      "text/plain": [
       "       school Inter/Polytechnic/CBSE Board/ITI/Paramedical  \\\n",
       "0  10th Board                    10th Board - Intermediate   \n",
       "1  10th Board                    10th Board - Intermediate   \n",
       "2  10th Board                    10th Board - Intermediate   \n",
       "3  10th Board                    10th Board - Intermediate   \n",
       "4  10th Board                    10th Board - Intermediate   \n",
       "5  10th Board                    10th Board - Intermediate   \n",
       "6  10th Board                    10th Board - Intermediate   \n",
       "7  10th Board                    10th Board - Intermediate   \n",
       "8  10th Board                    10th Board - Intermediate   \n",
       "9  10th Board                    10th Board - Intermediate   \n",
       "\n",
       "                                               Group  \\\n",
       "0  10th Board - Intermediate - MPC(Maths, Physics...   \n",
       "1  10th Board - Intermediate - MPC(Maths, Physics...   \n",
       "2  10th Board - Intermediate - MPC(Maths, Physics...   \n",
       "3  10th Board - Intermediate - MPC(Maths, Physics...   \n",
       "4  10th Board - Intermediate - MPC(Maths, Physics...   \n",
       "5  10th Board - Intermediate - MPC(Maths, Physics...   \n",
       "6  10th Board - Intermediate - MPC(Maths, Physics...   \n",
       "7  10th Board - Intermediate - MPC(Maths, Physics...   \n",
       "8  10th Board - Intermediate - MPC(Maths, Physics...   \n",
       "9  10th Board - Intermediate - MPC(Maths, Physics...   \n",
       "\n",
       "                                              Degree  \\\n",
       "0  10th Board - Intermediate - MPC(Maths, Physics...   \n",
       "1  10th Board - Intermediate - MPC(Maths, Physics...   \n",
       "2  10th Board - Intermediate - MPC(Maths, Physics...   \n",
       "3  10th Board - Intermediate - MPC(Maths, Physics...   \n",
       "4  10th Board - Intermediate - MPC(Maths, Physics...   \n",
       "5  10th Board - Intermediate - MPC(Maths, Physics...   \n",
       "6  10th Board - Intermediate - MPC(Maths, Physics...   \n",
       "7  10th Board - Intermediate - MPC(Maths, Physics...   \n",
       "8  10th Board - Intermediate - MPC(Maths, Physics...   \n",
       "9  10th Board - Intermediate - MPC(Maths, Physics...   \n",
       "\n",
       "                                     Branches/Course  \\\n",
       "0  10th Board - Intermediate - MPC(Maths, Physics...   \n",
       "1  10th Board - Intermediate - MPC(Maths, Physics...   \n",
       "2  10th Board - Intermediate - MPC(Maths, Physics...   \n",
       "3  10th Board - Intermediate - MPC(Maths, Physics...   \n",
       "4  10th Board - Intermediate - MPC(Maths, Physics...   \n",
       "5  10th Board - Intermediate - MPC(Maths, Physics...   \n",
       "6  10th Board - Intermediate - MPC(Maths, Physics...   \n",
       "7  10th Board - Intermediate - MPC(Maths, Physics...   \n",
       "8  10th Board - Intermediate - MPC(Maths, Physics...   \n",
       "9  10th Board - Intermediate - MPC(Maths, Physics...   \n",
       "\n",
       "                                              Output  \n",
       "0  Jobs: Racing Car Designer, Flight Mechanics En...  \n",
       "1  Jobs: Executive and Managerial Positions, Driv...  \n",
       "2  Jobs: Civil Engineer, Transportation Engineer,...  \n",
       "3  Jobs: data scientist, computer programmer, sys...  \n",
       "4  Jobs: Data scientist, Data Architect, Data Sci...  \n",
       "5  Jobs: Machine Learning Engineer, Data Scientis...  \n",
       "6  Jobs: Robotics Engineer, Robotics analyst and ...  \n",
       "7  Jobs: Software architect, Development operatio...  \n",
       "8  Jobs: Computer Network Support Specialist, Com...  \n",
       "9  Jobs: Cyber Forensics Solutions architect, Mal...  "
      ]
     },
     "execution_count": 1,
     "metadata": {},
     "output_type": "execute_result"
    }
   ],
   "source": [
    "import pandas as pd\n",
    "data=pd.read_csv('C:/Users/Deva Adithya/Downloads/Career project semi/Career project/MINI_Project dataset.csv',encoding='windows-1254')\n",
    "data.head(10)\n"
   ]
  },
  {
   "cell_type": "code",
   "execution_count": 2,
   "id": "c1cff06a",
   "metadata": {},
   "outputs": [],
   "source": [
    "from sklearn.preprocessing import LabelEncoder\n",
    "\n",
    "label= LabelEncoder()\n",
    "x_train=data.iloc[:,:].values\n",
    "x_train[:,5]=label.fit_transform(x_train[:,5])\n",
    "z=pd.DataFrame(x_train)\n",
    "\n",
    "z.to_csv('MiniRandom.csv')"
   ]
  },
  {
   "cell_type": "code",
   "execution_count": 21,
   "id": "076d12cf",
   "metadata": {},
   "outputs": [],
   "source": [
    "import pandas as pd\n",
    "data=pd.read_csv('C:/Users/Deva Adithya/Downloads/Career project semi/Career project/MiniRandom.csv',encoding='windows-1254')"
   ]
  },
  {
   "cell_type": "code",
   "execution_count": 22,
   "id": "65de40ce",
   "metadata": {},
   "outputs": [],
   "source": [
    "x=data.drop(columns='output')\n",
    "y=data['output']\n",
    "\n",
    "\n"
   ]
  },
  {
   "cell_type": "code",
   "execution_count": 23,
   "id": "a001f188",
   "metadata": {},
   "outputs": [],
   "source": [
    "from sklearn.model_selection import train_test_split\n",
    "x_train,x_test,y_train,y_test=train_test_split(x,y,test_size=0.2)"
   ]
  },
  {
   "cell_type": "code",
   "execution_count": 24,
   "id": "9db20993",
   "metadata": {},
   "outputs": [],
   "source": [
    "from sklearn.linear_model import LinearRegression\n",
    "from sklearn.metrics import r2_score\n",
    "from sklearn.preprocessing import OneHotEncoder\n",
    "from sklearn.compose import make_column_transformer\n",
    "from sklearn.pipeline import make_pipeline\n",
    "from sklearn.ensemble import RandomForestClassifier\n",
    "from sklearn.neighbors import KNeighborsClassifier"
   ]
  },
  {
   "cell_type": "code",
   "execution_count": 25,
   "id": "a8cf3da4",
   "metadata": {},
   "outputs": [
    {
     "data": {
      "text/plain": [
       "OneHotEncoder()"
      ]
     },
     "execution_count": 25,
     "metadata": {},
     "output_type": "execute_result"
    }
   ],
   "source": [
    "ohe=OneHotEncoder()\n",
    "ohe.fit(x[['school', 'course','group', 'degree','branch']])"
   ]
  },
  {
   "cell_type": "code",
   "execution_count": 26,
   "id": "d889c677",
   "metadata": {},
   "outputs": [],
   "source": [
    "column_trans=make_column_transformer((OneHotEncoder(categories=ohe.categories_),['school', 'course','group', 'degree','branch']),\n",
    "                                    remainder='passthrough')"
   ]
  },
  {
   "cell_type": "code",
   "execution_count": 27,
   "id": "384bebd7",
   "metadata": {},
   "outputs": [],
   "source": [
    "rf=KNeighborsClassifier()"
   ]
  },
  {
   "cell_type": "code",
   "execution_count": 28,
   "id": "df246bf5",
   "metadata": {},
   "outputs": [],
   "source": [
    "pipe=make_pipeline(column_trans,rf)\n"
   ]
  },
  {
   "cell_type": "code",
   "execution_count": 29,
   "id": "7776c7f9",
   "metadata": {},
   "outputs": [
    {
     "data": {
      "text/plain": [
       "Pipeline(steps=[('columntransformer',\n",
       "                 ColumnTransformer(remainder='passthrough',\n",
       "                                   transformers=[('onehotencoder',\n",
       "                                                  OneHotEncoder(categories=[array(['10th Board', '12th Board'], dtype=object),\n",
       "                                                                            array(['10th Board -  Select from the Below Options', '10th Board - ITI',\n",
       "       '10th Board - Intermediate', '10th Board - ParaMedical',\n",
       "       '10th Board - Polytechnic',\n",
       "       '12th Board -  Select from the Below Optio...\n",
       "       '12th Board - ICSE - Science - BSMS(Bachelor of Siddha Medicine&Surgery) - No Branches',\n",
       "       '12th Board - ICSE - Science - BUMS(Bachelor of Unani Medicine&Surgery) - No Branches',\n",
       "       '12th Board - ICSE - Science - MBBS(Bachelor of Medicine& Bachelor of Surgery) - No Branches',\n",
       "       '12th Board - ICSE - Science - Pharm.D.(Doctor of Pharmacy) - No Branches'],\n",
       "      dtype=object)]),\n",
       "                                                  ['school', 'course', 'group',\n",
       "                                                   'degree', 'branch'])])),\n",
       "                ('kneighborsclassifier', KNeighborsClassifier())])"
      ]
     },
     "execution_count": 29,
     "metadata": {},
     "output_type": "execute_result"
    }
   ],
   "source": [
    "pipe.fit(x_train,y_train)"
   ]
  },
  {
   "cell_type": "code",
   "execution_count": 30,
   "id": "f5ad8886",
   "metadata": {},
   "outputs": [],
   "source": [
    "y_pred=pipe.predict(x_test)"
   ]
  },
  {
   "cell_type": "code",
   "execution_count": 31,
   "id": "6b52dc2c",
   "metadata": {},
   "outputs": [
    {
     "data": {
      "text/plain": [
       "-0.9548529449368519"
      ]
     },
     "execution_count": 31,
     "metadata": {},
     "output_type": "execute_result"
    }
   ],
   "source": [
    "r2_score(y_test,y_pred)"
   ]
  },
  {
   "cell_type": "code",
   "execution_count": 32,
   "id": "55313709",
   "metadata": {},
   "outputs": [],
   "source": [
    "scores=[]\n",
    "for i in range(2500):\n",
    "    x_train,x_test,y_train,y_test=train_test_split(x,y,test_size=0.01,random_state=i)\n",
    "    lr=LinearRegression()\n",
    "    pipe=make_pipeline(column_trans,lr)\n",
    "    pipe.fit(x_train,y_train)\n",
    "    y_pred=pipe.predict(x_test)\n",
    "    scores.append(r2_score(y_test,y_pred))\n",
    "    "
   ]
  },
  {
   "cell_type": "code",
   "execution_count": 33,
   "id": "19ba9dd6",
   "metadata": {},
   "outputs": [
    {
     "data": {
      "text/plain": [
       "0.741208816361702"
      ]
     },
     "execution_count": 33,
     "metadata": {},
     "output_type": "execute_result"
    }
   ],
   "source": [
    "import numpy as np\n",
    "np.argmax(scores)\n",
    "\n",
    "scores[np.argmax(scores)]"
   ]
  },
  {
   "cell_type": "code",
   "execution_count": 34,
   "id": "a748067a",
   "metadata": {},
   "outputs": [
    {
     "data": {
      "text/plain": [
       "0.741208816361702"
      ]
     },
     "execution_count": 34,
     "metadata": {},
     "output_type": "execute_result"
    }
   ],
   "source": [
    "x_train,x_test,y_train,y_test=train_test_split(x,y,test_size=0.01,random_state=np.argmax(scores))\n",
    "lr=LinearRegression()\n",
    "pipe=make_pipeline(column_trans,lr)\n",
    "pipe.fit(x_train,y_train)\n",
    "y_pred=pipe.predict(x_test)\n",
    "r2_score(y_test,y_pred)"
   ]
  },
  {
   "cell_type": "code",
   "execution_count": 35,
   "id": "025cbc2f",
   "metadata": {},
   "outputs": [
    {
     "name": "stdout",
     "output_type": "stream",
     "text": [
      "[139.00000003]\n"
     ]
    }
   ],
   "source": [
    "prediction=pipe.predict(pd.DataFrame([['10th Board','10th Board - Intermediate','10th Board - Intermediate -BiPC( Biology, Physics ,Chemistry)','10th Board - Intermediate -BiPC( Biology, Physics ,Chemistry) - B.pharm(Bachelor of Pharmacy(Ayurveda))','10th Board - Intermediate -BiPC( Biology, Physics ,Chemistry) - B.pharm(Bachelor of Pharmacy(Ayurveda)) - No Branches']],columns=['school', 'course','group', 'degree','branch']))\n",
    "print(prediction)"
   ]
  },
  {
   "cell_type": "code",
   "execution_count": 36,
   "id": "275e126f",
   "metadata": {},
   "outputs": [
    {
     "name": "stdout",
     "output_type": "stream",
     "text": [
      "139\n"
     ]
    }
   ],
   "source": [
    "import math\n",
    "import numpy as np\n",
    "prediction=math.floor(prediction)\n",
    "\n",
    "print(int(prediction))"
   ]
  },
  {
   "cell_type": "code",
   "execution_count": 37,
   "id": "3654d8d3",
   "metadata": {},
   "outputs": [
    {
     "data": {
      "text/html": [
       "<div>\n",
       "<style scoped>\n",
       "    .dataframe tbody tr th:only-of-type {\n",
       "        vertical-align: middle;\n",
       "    }\n",
       "\n",
       "    .dataframe tbody tr th {\n",
       "        vertical-align: top;\n",
       "    }\n",
       "\n",
       "    .dataframe thead th {\n",
       "        text-align: right;\n",
       "    }\n",
       "</style>\n",
       "<table border=\"1\" class=\"dataframe\">\n",
       "  <thead>\n",
       "    <tr style=\"text-align: right;\">\n",
       "      <th></th>\n",
       "      <th>in</th>\n",
       "      <th>out</th>\n",
       "    </tr>\n",
       "  </thead>\n",
       "  <tbody>\n",
       "    <tr>\n",
       "      <th>0</th>\n",
       "      <td>225</td>\n",
       "      <td>Jobs: Racing Car Designer, Flight Mechanics En...</td>\n",
       "    </tr>\n",
       "    <tr>\n",
       "      <th>1</th>\n",
       "      <td>150</td>\n",
       "      <td>Jobs: Executive and Managerial Positions, Driv...</td>\n",
       "    </tr>\n",
       "    <tr>\n",
       "      <th>2</th>\n",
       "      <td>114</td>\n",
       "      <td>Jobs: Civil Engineer, Transportation Engineer,...</td>\n",
       "    </tr>\n",
       "    <tr>\n",
       "      <th>3</th>\n",
       "      <td>278</td>\n",
       "      <td>Jobs: data scientist, computer programmer, sys...</td>\n",
       "    </tr>\n",
       "    <tr>\n",
       "      <th>4</th>\n",
       "      <td>129</td>\n",
       "      <td>Jobs: Data scientist, Data Architect, Data Sci...</td>\n",
       "    </tr>\n",
       "    <tr>\n",
       "      <th>...</th>\n",
       "      <td>...</td>\n",
       "      <td>...</td>\n",
       "    </tr>\n",
       "    <tr>\n",
       "      <th>712</th>\n",
       "      <td>56</td>\n",
       "      <td>12th Board - CBSE - Commerce - Aviation Course...</td>\n",
       "    </tr>\n",
       "    <tr>\n",
       "      <th>713</th>\n",
       "      <td>59</td>\n",
       "      <td>12th Board - ICSE -  Select from Below Options</td>\n",
       "    </tr>\n",
       "    <tr>\n",
       "      <th>714</th>\n",
       "      <td>60</td>\n",
       "      <td>12th Board - ICSE - Arts -  Select from Below ...</td>\n",
       "    </tr>\n",
       "    <tr>\n",
       "      <th>715</th>\n",
       "      <td>62</td>\n",
       "      <td>12th Board - ICSE - Science -  Select from Bel...</td>\n",
       "    </tr>\n",
       "    <tr>\n",
       "      <th>716</th>\n",
       "      <td>61</td>\n",
       "      <td>12th Board - ICSE - Commerce -  Select from Be...</td>\n",
       "    </tr>\n",
       "  </tbody>\n",
       "</table>\n",
       "<p>717 rows × 2 columns</p>\n",
       "</div>"
      ],
      "text/plain": [
       "      in                                                out\n",
       "0    225  Jobs: Racing Car Designer, Flight Mechanics En...\n",
       "1    150  Jobs: Executive and Managerial Positions, Driv...\n",
       "2    114  Jobs: Civil Engineer, Transportation Engineer,...\n",
       "3    278  Jobs: data scientist, computer programmer, sys...\n",
       "4    129  Jobs: Data scientist, Data Architect, Data Sci...\n",
       "..   ...                                                ...\n",
       "712   56  12th Board - CBSE - Commerce - Aviation Course...\n",
       "713   59     12th Board - ICSE -  Select from Below Options\n",
       "714   60  12th Board - ICSE - Arts -  Select from Below ...\n",
       "715   62  12th Board - ICSE - Science -  Select from Bel...\n",
       "716   61  12th Board - ICSE - Commerce -  Select from Be...\n",
       "\n",
       "[717 rows x 2 columns]"
      ]
     },
     "execution_count": 37,
     "metadata": {},
     "output_type": "execute_result"
    }
   ],
   "source": [
    "df=pd.read_csv('C:/Users/Deva Adithya/Downloads/Career project semi/Career project/output.csv')\n",
    "df"
   ]
  },
  {
   "cell_type": "code",
   "execution_count": 38,
   "id": "fbce1ac5",
   "metadata": {},
   "outputs": [
    {
     "name": "stdout",
     "output_type": "stream",
     "text": [
      "Jobs: Drug inspector, Pharmacist,Pharmaceutical marketing, Pathological lab scientist, Health inspector, Chemical/drug technician, Medical devices and quality control manufacturing, Medical Underwriter\n",
      "Salary:3.5 LPA\n",
      "Higher Education: M Pharm Ayurveda\n"
     ]
    }
   ],
   "source": [
    "df2=df.loc[df['in'] == prediction, 'out'].iloc[0]\n",
    "print(df2)"
   ]
  },
  {
   "cell_type": "code",
   "execution_count": null,
   "id": "f2f78c70",
   "metadata": {},
   "outputs": [],
   "source": []
  },
  {
   "cell_type": "code",
   "execution_count": null,
   "id": "7f6b14e7",
   "metadata": {},
   "outputs": [],
   "source": []
  },
  {
   "cell_type": "code",
   "execution_count": null,
   "id": "80ad47b9",
   "metadata": {},
   "outputs": [],
   "source": []
  }
 ],
 "metadata": {
  "kernelspec": {
   "display_name": "Python 3 (ipykernel)",
   "language": "python",
   "name": "python3"
  },
  "language_info": {
   "codemirror_mode": {
    "name": "ipython",
    "version": 3
   },
   "file_extension": ".py",
   "mimetype": "text/x-python",
   "name": "python",
   "nbconvert_exporter": "python",
   "pygments_lexer": "ipython3",
   "version": "3.9.12"
  }
 },
 "nbformat": 4,
 "nbformat_minor": 5
}
